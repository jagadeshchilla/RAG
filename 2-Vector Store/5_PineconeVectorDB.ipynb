{
  "cells": [
    {
      "cell_type": "markdown",
      "metadata": {
        "id": "KTayvli5n5oi"
      },
      "source": [
        "### Pinecone Vector DB\n",
        "\n"
      ]
    },
    {
      "cell_type": "code",
      "execution_count": 1,
      "metadata": {
        "id": "VnRuXb5Pn4op"
      },
      "outputs": [],
      "source": [
        "## Create your index and apikey from here https://www.pinecone.io/\n",
        "import os\n",
        "# from dotenv import load_dotenv # Not needed when using userdata.get\n",
        "# load_dotenv() # Not needed when using userdata.get\n",
        "# api_key=os.getenv('PINECONE_API_KEY') # Not needed when using userdata.get\n",
        "\n",
        "from google.colab import userdata\n",
        "api_key = userdata.get('PINECONE_API_KEY')"
      ]
    },
    {
      "cell_type": "code",
      "source": [
        "!pip show langchain-pinecone"
      ],
      "metadata": {
        "colab": {
          "base_uri": "https://localhost:8080/"
        },
        "id": "GCN8gNQIgHEP",
        "outputId": "5da2e0ab-aa90-418c-8433-c2f2d52c5146"
      },
      "execution_count": 2,
      "outputs": [
        {
          "output_type": "stream",
          "name": "stdout",
          "text": [
            "Name: langchain-pinecone\n",
            "Version: 0.0.1\n",
            "Summary: An integration package connecting Pinecone and LangChain\n",
            "Home-page: https://github.com/langchain-ai/langchain\n",
            "Author: \n",
            "Author-email: \n",
            "License: MIT\n",
            "Location: /usr/local/lib/python3.12/dist-packages\n",
            "Requires: langchain-core, numpy, pinecone-client, simsimd\n",
            "Required-by: \n"
          ]
        }
      ]
    },
    {
      "cell_type": "code",
      "execution_count": 3,
      "metadata": {
        "id": "S4qBMk_ooF7e"
      },
      "outputs": [],
      "source": [
        "!pip install -qU langchain langchain-pinecone langchain-openai"
      ]
    },
    {
      "cell_type": "code",
      "execution_count": 4,
      "metadata": {
        "id": "Xk3bV02uoNJG"
      },
      "outputs": [],
      "source": [
        "from pinecone import Pinecone\n",
        "pc=Pinecone(api_key=api_key)"
      ]
    },
    {
      "cell_type": "code",
      "execution_count": 5,
      "metadata": {
        "id": "6FkmtNbdoNEN"
      },
      "outputs": [],
      "source": [
        "from langchain_openai import OpenAIEmbeddings\n",
        "\n",
        "# Assuming you have OPENAI_API_KEY stored in Colab Secrets Manager as well\n",
        "embeddings = OpenAIEmbeddings(model=\"text-embedding-3-small\",dimensions=1024,api_key=userdata.get('OPENAI_API_KEY'))"
      ]
    },
    {
      "cell_type": "code",
      "execution_count": 6,
      "metadata": {
        "id": "pUEG87c5oNBV",
        "colab": {
          "base_uri": "https://localhost:8080/"
        },
        "outputId": "e0611d21-3319-4a1e-eb4a-2c89f8e657ee"
      },
      "outputs": [
        {
          "output_type": "stream",
          "name": "stdout",
          "text": [
            "Index 'rag1' already exists.\n"
          ]
        }
      ],
      "source": [
        "from pinecone import ServerlessSpec\n",
        "\n",
        "index_name = \"rag1\"  # change if desired\n",
        "\n",
        "try:\n",
        "    pc.describe_index(index_name)\n",
        "    print(f\"Index '{index_name}' already exists.\")\n",
        "except:\n",
        "    print(f\"Index '{index_name}' does not exist. Creating index...\")\n",
        "    pc.create_index(\n",
        "        name=index_name,\n",
        "        dimension=1024,\n",
        "        metric=\"cosine\",\n",
        "        spec=ServerlessSpec(cloud=\"aws\", region=\"us-east-1\"),\n",
        "    )\n",
        "\n",
        "index = pc.Index(index_name)"
      ]
    },
    {
      "cell_type": "code",
      "execution_count": 7,
      "metadata": {
        "colab": {
          "base_uri": "https://localhost:8080/"
        },
        "id": "AG6u6hNVoM-Q",
        "outputId": "082d9f01-205a-482e-a875-7f3329ed45a9"
      },
      "outputs": [
        {
          "output_type": "execute_result",
          "data": {
            "text/plain": [
              "<pinecone.data.index.Index at 0x7bf947caac90>"
            ]
          },
          "metadata": {},
          "execution_count": 7
        }
      ],
      "source": [
        "index"
      ]
    },
    {
      "cell_type": "code",
      "execution_count": 14,
      "metadata": {
        "id": "Roi5exMmoM1H"
      },
      "outputs": [],
      "source": [
        "from langchain_pinecone import Pinecone\n",
        "\n",
        "vector_store = Pinecone(index=index, embedding=embeddings)\n"
      ]
    },
    {
      "cell_type": "code",
      "execution_count": 15,
      "metadata": {
        "colab": {
          "base_uri": "https://localhost:8080/"
        },
        "id": "a5g2vYCJo1rR",
        "outputId": "5992d1d9-c658-40e3-eb30-935d4c1a7a52"
      },
      "outputs": [
        {
          "output_type": "execute_result",
          "data": {
            "text/plain": [
              "<langchain_pinecone.vectorstores.Pinecone at 0x7bf946099940>"
            ]
          },
          "metadata": {},
          "execution_count": 15
        }
      ],
      "source": [
        "vector_store"
      ]
    },
    {
      "cell_type": "code",
      "execution_count": 16,
      "metadata": {
        "id": "0xg_Yi8Fo2p2"
      },
      "outputs": [],
      "source": [
        "from langchain_core.documents import Document\n",
        "\n",
        "document_1 = Document(\n",
        "    page_content=\"I had chocolate chip pancakes and scrambled eggs for breakfast this morning.\",\n",
        "    metadata={\"source\": \"tweet\"},\n",
        ")\n",
        "\n",
        "document_2 = Document(\n",
        "    page_content=\"The weather forecast for tomorrow is cloudy and overcast, with a high of 62 degrees.\",\n",
        "    metadata={\"source\": \"news\"},\n",
        ")\n",
        "\n",
        "document_3 = Document(\n",
        "    page_content=\"Building an exciting new project with LangChain - come check it out!\",\n",
        "    metadata={\"source\": \"tweet\"},\n",
        ")\n",
        "\n",
        "document_4 = Document(\n",
        "    page_content=\"Robbers broke into the city bank and stole $1 million in cash.\",\n",
        "    metadata={\"source\": \"news\"},\n",
        ")\n",
        "\n",
        "document_5 = Document(\n",
        "    page_content=\"Wow! That was an amazing movie. I can't wait to see it again.\",\n",
        "    metadata={\"source\": \"tweet\"},\n",
        ")\n",
        "\n",
        "document_6 = Document(\n",
        "    page_content=\"Is the new iPhone worth the price? Read this review to find out.\",\n",
        "    metadata={\"source\": \"website\"},\n",
        ")\n",
        "\n",
        "document_7 = Document(\n",
        "    page_content=\"The top 10 soccer players in the world right now.\",\n",
        "    metadata={\"source\": \"website\"},\n",
        ")\n",
        "\n",
        "document_8 = Document(\n",
        "    page_content=\"LangGraph is the best framework for building stateful, agentic applications!\",\n",
        "    metadata={\"source\": \"tweet\"},\n",
        ")\n",
        "\n",
        "document_9 = Document(\n",
        "    page_content=\"The stock market is down 500 points today due to fears of a recession.\",\n",
        "    metadata={\"source\": \"news\"},\n",
        ")\n",
        "\n",
        "document_10 = Document(\n",
        "    page_content=\"I have a bad feeling I am going to get deleted :(\",\n",
        "    metadata={\"source\": \"tweet\"},\n",
        ")\n",
        "\n",
        "documents = [\n",
        "    document_1,\n",
        "    document_2,\n",
        "    document_3,\n",
        "    document_4,\n",
        "    document_5,\n",
        "    document_6,\n",
        "    document_7,\n",
        "    document_8,\n",
        "    document_9,\n",
        "    document_10,\n",
        "]"
      ]
    },
    {
      "cell_type": "code",
      "execution_count": 17,
      "metadata": {
        "colab": {
          "base_uri": "https://localhost:8080/"
        },
        "id": "U7vIFd9vo7RR",
        "outputId": "2ec730a9-8535-41b4-8006-c7693b5219c7"
      },
      "outputs": [
        {
          "output_type": "execute_result",
          "data": {
            "text/plain": [
              "['57bd880b-4d1d-467f-937d-cf6db0b755a0',\n",
              " 'c8a1f470-7e83-48a9-a664-89ea3f014b87',\n",
              " '31bf7a05-905f-4888-aaff-e167c6837215',\n",
              " '43779fca-95f9-4b7a-8aa5-fe9e6db42199',\n",
              " '7d8d6627-dd1a-4a27-a33b-70f8b0f4e65a',\n",
              " '31f72804-c1eb-47ae-9b95-2b3ebe055376',\n",
              " 'c93840c2-cbba-4c47-bf23-0ab9382f7e8d',\n",
              " '6547d13d-5c19-47cf-9563-528e592a3421',\n",
              " '221d48ff-9230-4a97-aa4b-be1b163f3fd1',\n",
              " '6b06c87f-70c1-4a05-b3cf-1df2f2c05675']"
            ]
          },
          "metadata": {},
          "execution_count": 17
        }
      ],
      "source": [
        "vector_store.add_documents(documents=documents)"
      ]
    },
    {
      "cell_type": "code",
      "execution_count": 18,
      "metadata": {
        "id": "SymzuvqVo-_2"
      },
      "outputs": [],
      "source": [
        "### Query Directly\n",
        "results = vector_store.similarity_search(\n",
        "    \"LangChain provides abstractions to make working with LLMs easy\",\n",
        "    k=2,\n",
        "    filter={\"source\": \"tweet\"},\n",
        ")\n",
        "for res in results:\n",
        "    print(f\"* {res.page_content} [{res.metadata}]\")"
      ]
    },
    {
      "cell_type": "code",
      "execution_count": 19,
      "metadata": {
        "colab": {
          "base_uri": "https://localhost:8080/"
        },
        "id": "a-fY5h4JpDN-",
        "outputId": "66127083-c574-4e2a-b437-a17ce4cdfd6a"
      },
      "outputs": [
        {
          "output_type": "stream",
          "name": "stdout",
          "text": [
            "* [SIM=0.572732] The weather forecast for tomorrow is cloudy and overcast, with a high of 62 degrees. [{'source': 'news'}]\n"
          ]
        }
      ],
      "source": [
        "results = vector_store.similarity_search_with_score(\n",
        "    \"Will it be hot tomorrow?\", k=1, filter={\"source\": \"news\"}\n",
        ")\n",
        "for res, score in results:\n",
        "    print(f\"* [SIM={score:3f}] {res.page_content} [{res.metadata}]\")"
      ]
    },
    {
      "cell_type": "code",
      "execution_count": 20,
      "metadata": {
        "colab": {
          "base_uri": "https://localhost:8080/"
        },
        "id": "IkcjANiwpFw5",
        "outputId": "18f1dda9-7865-4997-b1da-f9bcc8682099"
      },
      "outputs": [
        {
          "output_type": "execute_result",
          "data": {
            "text/plain": [
              "[Document(metadata={'source': 'news'}, page_content='Robbers broke into the city bank and stole $1 million in cash.')]"
            ]
          },
          "metadata": {},
          "execution_count": 20
        }
      ],
      "source": [
        "### Retriever\n",
        "retriever = vector_store.as_retriever(\n",
        "    search_type=\"similarity_score_threshold\",\n",
        "    search_kwargs={\"k\": 1, \"score_threshold\": 0.4},\n",
        ")\n",
        "retriever.invoke(\"Stealing from the bank is a crime\", filter={\"source\": \"news\"})"
      ]
    },
    {
      "cell_type": "code",
      "execution_count": null,
      "metadata": {
        "id": "n6PJuN7ZpJjk"
      },
      "outputs": [],
      "source": []
    }
  ],
  "metadata": {
    "colab": {
      "provenance": []
    },
    "kernelspec": {
      "display_name": ".venv",
      "language": "python",
      "name": "python3"
    },
    "language_info": {
      "codemirror_mode": {
        "name": "ipython",
        "version": 3
      },
      "file_extension": ".py",
      "mimetype": "text/x-python",
      "name": "python",
      "nbconvert_exporter": "python",
      "pygments_lexer": "ipython3",
      "version": "3.12.3"
    }
  },
  "nbformat": 4,
  "nbformat_minor": 0
}